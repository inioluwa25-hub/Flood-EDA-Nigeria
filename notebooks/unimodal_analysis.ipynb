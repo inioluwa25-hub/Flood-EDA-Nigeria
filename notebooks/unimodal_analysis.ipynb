{
 "cells": [
  {
   "cell_type": "code",
   "execution_count": 1,
   "metadata": {},
   "outputs": [
    {
     "name": "stdout",
     "output_type": "stream",
     "text": [
      "Generating distribution plots...\n"
     ]
    },
    {
     "name": "stderr",
     "output_type": "stream",
     "text": [
      "/Users/raheeminioluwa/Documents/Flood-EDA-Nigeria/venv/lib/python3.12/site-packages/pandas/core/nanops.py:1016: RuntimeWarning: invalid value encountered in subtract\n",
      "  sqr = _ensure_numeric((avg - values) ** 2)\n",
      "/Users/raheeminioluwa/Documents/Flood-EDA-Nigeria/venv/lib/python3.12/site-packages/pandas/core/nanops.py:1016: RuntimeWarning: invalid value encountered in subtract\n",
      "  sqr = _ensure_numeric((avg - values) ** 2)\n"
     ]
    },
    {
     "name": "stdout",
     "output_type": "stream",
     "text": [
      "Generating boxplots...\n",
      "Generating temporal plots...\n"
     ]
    },
    {
     "name": "stderr",
     "output_type": "stream",
     "text": [
      "/var/folders/x_/c2178m094hj07hqpdbd44pmw0000gn/T/ipykernel_84439/396687701.py:73: FutureWarning: \n",
      "\n",
      "Passing `palette` without assigning `hue` is deprecated and will be removed in v0.14.0. Assign the `x` variable to `hue` and set `legend=False` for the same effect.\n",
      "\n",
      "  sns.countplot(\n"
     ]
    },
    {
     "name": "stdout",
     "output_type": "stream",
     "text": [
      "Generating state-level analysis...\n"
     ]
    },
    {
     "name": "stderr",
     "output_type": "stream",
     "text": [
      "/var/folders/x_/c2178m094hj07hqpdbd44pmw0000gn/T/ipykernel_84439/396687701.py:92: FutureWarning: \n",
      "\n",
      "Passing `palette` without assigning `hue` is deprecated and will be removed in v0.14.0. Assign the `y` variable to `hue` and set `legend=False` for the same effect.\n",
      "\n",
      "  sns.barplot(\n"
     ]
    },
    {
     "name": "stdout",
     "output_type": "stream",
     "text": [
      "✅ Unimodal analysis complete. Visualizations saved to ../figures/unimodal/\n"
     ]
    }
   ],
   "source": [
    "# notebooks/unimodal_analysis.ipynb\n",
    "import pandas as pd\n",
    "import seaborn as sns\n",
    "import matplotlib.pyplot as plt\n",
    "import os\n",
    "import numpy as np\n",
    "\n",
    "# Load cleaned data\n",
    "df = pd.read_csv(\"../data/processed/cleaned_flood_data.csv\")\n",
    "os.makedirs(\"../figures/unimodal\", exist_ok=True)\n",
    "\n",
    "# Key variables from cleaned dataset\n",
    "variables = [\n",
    "    'PERSONS_AFFECTED',\n",
    "    'DISPLACED_PERSONS',\n",
    "    'SEVERITY_RATIO',\n",
    "    'YEAR',\n",
    "    'MONTH'\n",
    "]\n",
    "\n",
    "# 1. Distribution Plots (Histograms with KDE)\n",
    "print(\"Generating distribution plots...\")\n",
    "for var in variables:\n",
    "    plt.figure(figsize=(10, 6))\n",
    "    \n",
    "    # Log scale for affected/displaced persons due to right-skew\n",
    "    log_scale = var in ['PERSONS_AFFECTED', 'DISPLACED_PERSONS']\n",
    "    \n",
    "    sns.histplot(\n",
    "        data=df,\n",
    "        x=var,\n",
    "        kde=True,\n",
    "        bins=30,\n",
    "        log_scale=log_scale,\n",
    "        color='skyblue'\n",
    "    )\n",
    "    \n",
    "    plt.title(f\"Distribution of {var.replace('_', ' ')}\")\n",
    "    plt.xlabel(var.replace('_', ' '))\n",
    "    plt.ylabel('Count')\n",
    "    \n",
    "    if log_scale:\n",
    "        plt.xlim(left=1)  # Avoid log(0)\n",
    "    \n",
    "    plt.tight_layout()\n",
    "    plt.savefig(f\"../figures/unimodal/dist_{var.lower()}.png\", dpi=300)\n",
    "    plt.close()\n",
    "\n",
    "# 2. Boxplots for Numerical Variables\n",
    "print(\"Generating boxplots...\")\n",
    "for var in ['PERSONS_AFFECTED', 'DISPLACED_PERSONS', 'SEVERITY_RATIO']:\n",
    "    plt.figure(figsize=(10, 6))\n",
    "    \n",
    "    # Use log scale for better visualization of outliers\n",
    "    sns.boxplot(\n",
    "        data=df,\n",
    "        y=np.log10(df[var] + 1),  # +1 to avoid log(0)\n",
    "        color='lightgreen'\n",
    "    )\n",
    "    \n",
    "    plt.title(f\"Boxplot of {var.replace('_', ' ')} (Log Scale)\")\n",
    "    plt.ylabel(f\"log10({var})\")\n",
    "    plt.tight_layout()\n",
    "    plt.savefig(f\"../figures/unimodal/boxplot_{var.lower()}.png\", dpi=300)\n",
    "    plt.close()\n",
    "\n",
    "# 3. Temporal Analysis\n",
    "print(\"Generating temporal plots...\")\n",
    "# Monthly distribution\n",
    "plt.figure(figsize=(12, 6))\n",
    "month_order = ['Jan','Feb','Mar','Apr','May','Jun',\n",
    "               'Jul','Aug','Sep','Oct','Nov','Dec']\n",
    "sns.countplot(\n",
    "    data=df,\n",
    "    x='MONTH',\n",
    "    order=range(1,13),\n",
    "    palette='viridis'\n",
    ")\n",
    "plt.title(\"Flood Occurrences by Month (2022)\")\n",
    "plt.xlabel('Month')\n",
    "plt.ylabel('Number of Flood Events')\n",
    "plt.xticks(ticks=range(12), labels=month_order)\n",
    "plt.tight_layout()\n",
    "plt.savefig(\"../figures/unimodal/monthly_distribution.png\", dpi=300)\n",
    "plt.close()\n",
    "\n",
    "# 4. State-Level Analysis\n",
    "print(\"Generating state-level analysis...\")\n",
    "# Top 15 states by affected persons\n",
    "top_states = df.groupby('STATE')['PERSONS_AFFECTED'].sum().nlargest(15)\n",
    "plt.figure(figsize=(12, 6))\n",
    "sns.barplot(\n",
    "    x=top_states.values,\n",
    "    y=top_states.index,\n",
    "    palette='rocket'\n",
    ")\n",
    "plt.title(\"Top 15 States by Total Persons Affected\")\n",
    "plt.xlabel('Total Persons Affected')\n",
    "plt.ylabel('State')\n",
    "plt.tight_layout()\n",
    "plt.savefig(\"../figures/unimodal/top_states_affected.png\", dpi=300)\n",
    "plt.close()\n",
    "\n",
    "print(\"✅ Unimodal analysis complete. Visualizations saved to ../figures/unimodal/\")"
   ]
  }
 ],
 "metadata": {
  "kernelspec": {
   "display_name": "venv",
   "language": "python",
   "name": "python3"
  },
  "language_info": {
   "codemirror_mode": {
    "name": "ipython",
    "version": 3
   },
   "file_extension": ".py",
   "mimetype": "text/x-python",
   "name": "python",
   "nbconvert_exporter": "python",
   "pygments_lexer": "ipython3",
   "version": "3.12.7"
  }
 },
 "nbformat": 4,
 "nbformat_minor": 2
}
