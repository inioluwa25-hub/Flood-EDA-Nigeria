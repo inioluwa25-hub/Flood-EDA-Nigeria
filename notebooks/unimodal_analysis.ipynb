{
 "cells": [
  {
   "cell_type": "code",
   "execution_count": 9,
   "metadata": {},
   "outputs": [
    {
     "name": "stdout",
     "output_type": "stream",
     "text": [
      "✅ Unimodal analysis complete. Check ../figures/ directory\n"
     ]
    }
   ],
   "source": [
    "# notebooks/unimodal_analysis.ipynb\n",
    "import pandas as pd\n",
    "import seaborn as sns\n",
    "import matplotlib.pyplot as plt\n",
    "import os\n",
    "\n",
    "# Load transformed data\n",
    "df = pd.read_csv(\"../data/processed/transformed_flood_data.csv\")\n",
    "os.makedirs(\"../figures\", exist_ok=True)\n",
    "\n",
    "# Unimodal Analysis\n",
    "variables = [\n",
    "    'Rainfall_mm', 'River_Level_m', 'Drainage_Efficiency',\n",
    "    'Urbanization_Rate', 'Flood_Occurrence', 'Flood_Risk_Index',\n",
    "    'Rainfall_mm_Transformed', 'River_Level_m_Transformed'\n",
    "]\n",
    "\n",
    "# Create distribution plots\n",
    "for var in variables:\n",
    "    plt.figure(figsize=(10, 6))\n",
    "    sns.histplot(df[var], kde=True, bins=20)\n",
    "    plt.title(f\"Distribution of {var}\")\n",
    "    plt.tight_layout()\n",
    "    plt.savefig(f\"../figures/dist_{var}.png\")\n",
    "    plt.close()\n",
    "\n",
    "# Create boxplots\n",
    "for var in ['Rainfall_mm', 'River_Level_m', 'Urbanization_Rate']:\n",
    "    plt.figure(figsize=(10, 6))\n",
    "    sns.boxplot(x=df[var])\n",
    "    plt.title(f\"Boxplot of {var}\")\n",
    "    plt.tight_layout()\n",
    "    plt.savefig(f\"../figures/boxplot_{var}.png\")\n",
    "    plt.close()\n",
    "\n",
    "print(\"✅ Unimodal analysis complete. Check ../figures/ directory\")"
   ]
  }
 ],
 "metadata": {
  "kernelspec": {
   "display_name": "venv",
   "language": "python",
   "name": "python3"
  },
  "language_info": {
   "codemirror_mode": {
    "name": "ipython",
    "version": 3
   },
   "file_extension": ".py",
   "mimetype": "text/x-python",
   "name": "python",
   "nbconvert_exporter": "python",
   "pygments_lexer": "ipython3",
   "version": "3.12.7"
  }
 },
 "nbformat": 4,
 "nbformat_minor": 2
}
