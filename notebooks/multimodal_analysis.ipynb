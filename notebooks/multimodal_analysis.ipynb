{
 "cells": [
  {
   "cell_type": "code",
   "execution_count": 1,
   "metadata": {},
   "outputs": [
    {
     "name": "stderr",
     "output_type": "stream",
     "text": [
      "/var/folders/x_/c2178m094hj07hqpdbd44pmw0000gn/T/ipykernel_61298/58512234.py:74: FutureWarning: \n",
      "\n",
      "Passing `palette` without assigning `hue` is deprecated and will be removed in v0.14.0. Assign the `y` variable to `hue` and set `legend=False` for the same effect.\n",
      "\n",
      "  sns.barplot(x=state_risk.head(10).values,\n"
     ]
    },
    {
     "name": "stdout",
     "output_type": "stream",
     "text": [
      "✅ Analysis complete. Figures saved to: /Users/raheeminioluwa/Documents/Flood-EDA-Nigeria/figures\n"
     ]
    }
   ],
   "source": [
    "import pandas as pd\n",
    "import seaborn as sns\n",
    "import matplotlib.pyplot as plt\n",
    "import numpy as np\n",
    "from scipy.stats import pearsonr\n",
    "import os\n",
    "from pathlib import Path\n",
    "\n",
    "# Set up paths\n",
    "current_dir = Path.cwd()\n",
    "figures_dir = current_dir.parent/\"figures\"\n",
    "os.makedirs(figures_dir, exist_ok=True)\n",
    "\n",
    "# Load data with proper type handling\n",
    "df = pd.read_csv(\"../data/processed/transformed_flood_data.csv\")\n",
    "\n",
    "# 1. PREPROCESSING --------------------------------\n",
    "# Select only numeric columns for correlation\n",
    "numeric_cols = df.select_dtypes(include=['float64', 'int64']).columns.tolist()\n",
    "\n",
    "# Verify we have expected columns\n",
    "expected_cols = ['Rainfall_mm', 'Drainage_Efficiency', 'Urbanization_Rate', \n",
    "                 'Flood_Occurrence', 'Flood_Risk_Index']\n",
    "missing_cols = [col for col in expected_cols if col not in numeric_cols]\n",
    "if missing_cols:\n",
    "    print(f\"⚠️ Missing numeric columns: {missing_cols}\")\n",
    "\n",
    "# 2. CORRELATION MATRIX (NUMERIC ONLY) ------------\n",
    "plt.figure(figsize=(12, 10))\n",
    "corr_matrix = df[numeric_cols].corr()\n",
    "mask = np.triu(np.ones_like(corr_matrix, dtype=bool))  # Mask upper triangle\n",
    "\n",
    "sns.heatmap(corr_matrix, \n",
    "            annot=True, \n",
    "            fmt=\".2f\", \n",
    "            cmap=\"coolwarm\", \n",
    "            vmin=-1, \n",
    "            vmax=1,\n",
    "            mask=mask)\n",
    "plt.title(\"Numeric Variable Correlation Matrix\")\n",
    "plt.tight_layout()\n",
    "plt.savefig(figures_dir/\"correlation_matrix.png\", bbox_inches='tight')\n",
    "plt.close()\n",
    "\n",
    "# 3. SCATTERPLOT MATRIX --------------------------\n",
    "# Convert Flood_Occurrence to categorical if numeric\n",
    "if pd.api.types.is_numeric_dtype(df['Flood_Occurrence']):\n",
    "    df['Flood_Occurrence'] = df['Flood_Occurrence'].astype('category')\n",
    "\n",
    "sns.pairplot(df[numeric_cols], \n",
    "             hue='Flood_Occurrence', \n",
    "             diag_kind='kde',\n",
    "             plot_kws={'alpha': 0.6})\n",
    "plt.suptitle(\"Multimodal Relationships\", y=1.02)\n",
    "plt.savefig(figures_dir/\"scatterplot_matrix.png\", bbox_inches='tight')\n",
    "plt.close()\n",
    "\n",
    "# 4. FLOOD RISK ANALYSIS -------------------------\n",
    "plt.figure(figsize=(12, 6))\n",
    "sns.boxplot(x='Flood_Occurrence', \n",
    "            y='Flood_Risk_Index', \n",
    "            data=df,\n",
    "            showfliers=False)  # Remove outliers for clearer visualization\n",
    "plt.title(\"Flood Risk Index vs. Actual Flood Occurrence\")\n",
    "plt.tight_layout()\n",
    "plt.savefig(figures_dir/\"flood_risk_comparison.png\")\n",
    "plt.close()\n",
    "\n",
    "# 5. STATE-WISE ANALYSIS -------------------------\n",
    "if 'State' in df.columns:\n",
    "    state_risk = df.groupby('State')['Flood_Risk_Index'].mean().sort_values(ascending=False)\n",
    "    \n",
    "    plt.figure(figsize=(12, 8))\n",
    "    sns.barplot(x=state_risk.head(10).values, \n",
    "                y=state_risk.head(10).index,\n",
    "                palette=\"Blues_d\")\n",
    "    plt.title(\"Top 10 Flood-Prone States\")\n",
    "    plt.xlabel(\"Average Flood Risk Index\")\n",
    "    plt.tight_layout()\n",
    "    plt.savefig(figures_dir/\"top_flood_states.png\")\n",
    "    plt.close()\n",
    "else:\n",
    "    print(\"⚠️ 'State' column not found - skipping state-wise analysis\")\n",
    "\n",
    "print(f\"✅ Analysis complete. Figures saved to: {figures_dir}\")"
   ]
  }
 ],
 "metadata": {
  "kernelspec": {
   "display_name": "venv",
   "language": "python",
   "name": "python3"
  },
  "language_info": {
   "codemirror_mode": {
    "name": "ipython",
    "version": 3
   },
   "file_extension": ".py",
   "mimetype": "text/x-python",
   "name": "python",
   "nbconvert_exporter": "python",
   "pygments_lexer": "ipython3",
   "version": "3.12.7"
  }
 },
 "nbformat": 4,
 "nbformat_minor": 2
}
